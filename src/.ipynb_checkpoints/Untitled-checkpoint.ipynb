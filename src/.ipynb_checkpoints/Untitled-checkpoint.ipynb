{
 "cells": [
  {
   "cell_type": "markdown",
   "id": "740815dc-880b-4f3a-8cd6-ca1ff482d910",
   "metadata": {},
   "source": [
    "## seq2seq\n",
    "### Генерация имён"
   ]
  },
  {
   "cell_type": "code",
   "execution_count": 1,
   "id": "44aefe8c-0cda-47bf-91c7-93c5f661ce03",
   "metadata": {},
   "outputs": [],
   "source": [
    "import numpy as np\n",
    "import matplotlib.pyplot as plt\n",
    "# %matplotlib inline"
   ]
  },
  {
   "cell_type": "code",
   "execution_count": 2,
   "id": "6cbba2c0-075e-4ad0-87ae-d7a04d66b88b",
   "metadata": {},
   "outputs": [
    {
     "name": "stdout",
     "output_type": "stream",
     "text": [
      "55 ['w', 'k', 'u', 'v', 'e', 'T', 'z', 'g', 'J', 'Y', 't', 'f', 'q', 'o', 'Q', 'A', 'y', 'm', 'P', 'C', 'i', 'M', 'Z', 'c', 'b', 'G', 'O', 'j', ' ', 'X', 'x', 'U', 'I', 'V', 'l', 'p', 'r', 'S', 'E', '-', 'W', \"'\", 'N', 'n', 's', 'L', 'H', 'R', 'a', 'B', 'D', 'h', 'd', 'K', 'F']\n"
     ]
    }
   ],
   "source": [
    "start_token = \" \"\n",
    "\n",
    "with open(\"names\") as f:\n",
    "    names = f.read()[:-1].split('\\n')\n",
    "    names = [start_token + line for line in names]\n",
    "    \n",
    "tokens = set()\n",
    "for name in names:\n",
    "    tokens.update(set(name))\n",
    "\n",
    "tokens = list(tokens)\n",
    "\n",
    "num_tokens = len(tokens)\n",
    "print (num_tokens, tokens)"
   ]
  },
  {
   "cell_type": "code",
   "execution_count": null,
   "id": "f82651a5-4f9e-41dc-9a86-2279b8469c69",
   "metadata": {},
   "outputs": [],
   "source": []
  }
 ],
 "metadata": {
  "kernelspec": {
   "display_name": "Python 3 (ipykernel)",
   "language": "python",
   "name": "python3"
  },
  "language_info": {
   "codemirror_mode": {
    "name": "ipython",
    "version": 3
   },
   "file_extension": ".py",
   "mimetype": "text/x-python",
   "name": "python",
   "nbconvert_exporter": "python",
   "pygments_lexer": "ipython3",
   "version": "3.10.12"
  }
 },
 "nbformat": 4,
 "nbformat_minor": 5
}
