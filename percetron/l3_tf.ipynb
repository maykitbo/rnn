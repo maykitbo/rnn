{
 "cells": [
  {
   "cell_type": "markdown",
   "metadata": {},
   "source": [
    "## Load Data"
   ]
  },
  {
   "cell_type": "code",
   "execution_count": 1,
   "metadata": {},
   "outputs": [],
   "source": [
    "from keras.datasets import mnist\n",
    "import numpy as np\n",
    "\n",
    "(x_train, y_train), (x_test, y_test) = mnist.load_data()\n",
    "\n",
    "NUM_CLASSES = 10\n",
    "INPUT_SIZE = 784"
   ]
  },
  {
   "cell_type": "code",
   "execution_count": 2,
   "metadata": {
    "scrolled": true
   },
   "outputs": [
    {
     "name": "stdout",
     "output_type": "stream",
     "text": [
      "(60000, 28, 28)\n",
      "(60000,)\n",
      "(10000, 28, 28)\n",
      "(10000,)\n",
      "[5 0 4 ... 5 6 8]\n"
     ]
    }
   ],
   "source": [
    "\n",
    "print(x_train.shape)\n",
    "print(y_train.shape)\n",
    "print(x_test.shape)\n",
    "print(y_test.shape)\n",
    "\n",
    "print(y_train)\n"
   ]
  },
  {
   "cell_type": "markdown",
   "metadata": {},
   "source": [
    "## Data Visualization"
   ]
  },
  {
   "cell_type": "code",
   "execution_count": 3,
   "metadata": {},
   "outputs": [
    {
     "name": "stdout",
     "output_type": "stream",
     "text": [
      "1\n"
     ]
    },
    {
     "data": {
      "image/png": "[encoded data removed]",
      "text/plain": [
       "<Figure size 640x480 with 1 Axes>"
      ]
     },
     "metadata": {},
     "output_type": "display_data"
    }
   ],
   "source": [
    "import matplotlib.pyplot as plt\n",
    "%matplotlib inline\n",
    "\n",
    "ri = np.random.randint(0, len(x_train))\n",
    "# while y_train[ri] != 3:\n",
    "#     ri = np.random.randint(0, len(x_train))\n",
    "print(y_train[ri])\n",
    "plt.imshow(x_train[ri]);"
   ]
  },
  {
   "cell_type": "code",
   "execution_count": 4,
   "metadata": {},
   "outputs": [
    {
     "name": "stdout",
     "output_type": "stream",
     "text": [
      "(60000, 28, 28)\n",
      "(10000, 28, 28)\n"
     ]
    },
    {
     "data": {
      "text/plain": [
       "(array([5923., 6742., 5958., 6131., 5842., 5421., 5918., 6265., 5851.,\n",
       "        5949.]),\n",
       " array([ 0.,  1.,  2.,  3.,  4.,  5.,  6.,  7.,  8.,  9., 10.]),\n",
       " <BarContainer object of 10 artists>)"
      ]
     },
     "execution_count": 4,
     "metadata": {},
     "output_type": "execute_result"
    },
    {
     "data": {
      "image/png": "[encoded data removed]",
      "text/plain": [
       "<Figure size 640x480 with 1 Axes>"
      ]
     },
     "metadata": {},
     "output_type": "display_data"
    }
   ],
   "source": [
    "print(x_train.shape)\n",
    "print(x_test.shape)\n",
    "plt.hist(y_train, bins=range(11), align='left', rwidth=0.9)\n"
   ]
  },
  {
   "cell_type": "markdown",
   "metadata": {},
   "source": [
    "## Normalization"
   ]
  },
  {
   "cell_type": "code",
   "execution_count": 5,
   "metadata": {},
   "outputs": [
    {
     "name": "stdout",
     "output_type": "stream",
     "text": [
      "(60000, 784)\n",
      "(10000, 784)\n"
     ]
    }
   ],
   "source": [
    "x_train = x_train / 127.5 - 1\n",
    "x_test = x_test / 127.5 - 1\n",
    "\n",
    "x_train = x_train.reshape(x_train.shape[0], INPUT_SIZE)\n",
    "x_test = x_test.reshape(x_test.shape[0], INPUT_SIZE)\n",
    "\n",
    "print(x_train.shape)\n",
    "print(x_test.shape)"
   ]
  },
  {
   "cell_type": "markdown",
   "metadata": {},
   "source": [
    "## Tensorflow Model"
   ]
  },
  {
   "cell_type": "code",
   "execution_count": 14,
   "metadata": {},
   "outputs": [
    {
     "name": "stdout",
     "output_type": "stream",
     "text": [
      "Epoch 1/5\n",
      "3750/3750 [==============================] - 21s 6ms/step - loss: 0.3638 - accuracy: 0.8900 - val_loss: 0.1895 - val_accuracy: 0.9443\n",
      "Epoch 2/5\n",
      "3750/3750 [==============================] - 35s 9ms/step - loss: 0.1719 - accuracy: 0.9471 - val_loss: 0.1520 - val_accuracy: 0.9524\n",
      "Epoch 3/5\n",
      "3750/3750 [==============================] - 41s 11ms/step - loss: 0.1315 - accuracy: 0.9588 - val_loss: 0.1209 - val_accuracy: 0.9615\n",
      "Epoch 4/5\n",
      "3750/3750 [==============================] - 42s 11ms/step - loss: 0.1081 - accuracy: 0.9664 - val_loss: 0.1229 - val_accuracy: 0.9621\n",
      "Epoch 5/5\n",
      "3750/3750 [==============================] - 38s 10ms/step - loss: 0.0928 - accuracy: 0.9707 - val_loss: 0.1090 - val_accuracy: 0.9656\n"
     ]
    }
   ],
   "source": [
    "from keras.models import Sequential\n",
    "from keras.layers import Dense\n",
    "from keras.optimizers import Adam\n",
    "\n",
    "# train_dataset_tf = tf.data.Dataset.from_tensor_slices((x_train, y_train))\n",
    "# # test_dataset_tf = tf.data.Dataset.from_tensor_slices((x_test, y_test))\n",
    "# x_test_tf = tf.cast(x_test, tf.float32)\n",
    "# y_test_tf = tf.cast(y_test, tf.int32)\n",
    "# predictions = model_tf_1(x_test_tf)\n",
    "# @tf.function\n",
    "# def train_step(model, inputs, labels):\n",
    "#     with tf.GradientTape() as tape:\n",
    "#         predictions = model(inputs)\n",
    "#         loss = tf.keras.losses.sparse_categorical_crossentropy(labels, predictions)\n",
    "#     gradients = tape.gradient(loss, model.trainable_variables)\n",
    "#     optimizer.apply_gradients(zip(gradients, model.trainable_variables))\n",
    "#     return loss\n",
    "# @tf.function\n",
    "# def test_step(model, inputs, labels):\n",
    "#     predictions = model(inputs)\n",
    "#     loss = tf.keras.losses.sparse_categorical_crossentropy(labels, predictions)\n",
    "#     return loss, predictions\n",
    "# correct = 0\n",
    "# total = 0\n",
    "# for epoch in range(3):\n",
    "#     train_loader_tf = train_dataset_tf.shuffle(60000).batch(16)\n",
    "#     for inputs, labels in train_loader_tf:  # Assume train_dataset is a tf.data.Dataset\n",
    "#         loss = train_step(model_tf_1, inputs, labels)\n",
    "#     print(f\"Epoch {epoch}: Last Batch Loss: {loss.numpy()}\")\n",
    "\n",
    "#     loss, predictions = test_step(model_tf_1, x_test_tf, y_test_tf)\n",
    "#     total += len(predictions)\n",
    "#     correct += sum(np.argmax(predictions, axis=1) == y_test)\n",
    "#     print(f\"Epoch {epoch}: Test Loss: {loss.numpy()}, Test Accuracy: {correct / total}\")\n",
    "# from keras import Model\n",
    "# class Model_T1(Model):\n",
    "#     def __init__(self):\n",
    "#         super().__init__()\n",
    "#         self.L1 = Dense(\n",
    "#                         200,\n",
    "#                         activation='relu',\n",
    "#                         kernel_initializer='he_normal')\n",
    "#         self.L2 = Dense(\n",
    "#                         150,\n",
    "#                         activation='relu',\n",
    "#                         kernel_initializer='he_normal')\n",
    "#         self.L3 = Dense(100,\n",
    "#                         activation='relu',\n",
    "#                         kernel_initializer='he_normal')\n",
    "#         self.L4 = Dense(\n",
    "#                         NUM_CLASSES,\n",
    "#                         activation='softmax',\n",
    "#                         kernel_initializer='he_normal')\n",
    "#     def call(self, inputs, training=False):\n",
    "#         x = self.L1(inputs)\n",
    "#         x = self.L2(x)\n",
    "#         x = self.L3(x)\n",
    "#         x = self.L4(x)\n",
    "#         return x\n",
    "# model = Model_T1()\n",
    "\n",
    "import tensorflow as tf\n",
    "import keras.optimizers as optimizer\n",
    "\n",
    "\n",
    "model_tf_1 = Sequential()\n",
    "model_tf_1.add(Dense(\n",
    "        units=128,\n",
    "        activation='relu',\n",
    "        kernel_initializer='he_normal'\n",
    "))\n",
    "model_tf_1.add(Dense(\n",
    "        units=64,\n",
    "        activation='relu',\n",
    "        kernel_initializer='he_normal'\n",
    "))\n",
    "model_tf_1.add(Dense(\n",
    "        units=32,\n",
    "        activation='relu',\n",
    "        kernel_initializer='he_normal'\n",
    "))\n",
    "model_tf_1.add(Dense(\n",
    "        units=NUM_CLASSES,\n",
    "        activation='softmax',\n",
    "        kernel_initializer='he_normal'\n",
    "))\n",
    "\n",
    "\n",
    "model_tf_1.compile(optimizer=Adam(learning_rate=0.0002), \n",
    "              loss='sparse_categorical_crossentropy', \n",
    "              metrics=['accuracy'])\n",
    "\n",
    "\n",
    "result = model_tf_1.fit(\n",
    "            x=x_train,\n",
    "            y=y_train,\n",
    "            epochs=5,\n",
    "            validation_data=(x_test, y_test),\n",
    "            batch_size=16\n",
    ")\n",
    "        "
   ]
  },
  {
   "cell_type": "code",
   "execution_count": 11,
   "metadata": {},
   "outputs": [
    {
     "name": "stdout",
     "output_type": "stream",
     "text": [
      "Epoch 1, Training Loss: 0.3400017791629458\n",
      "Epoch 1, Validation Accuracy: 93.84%,          Time: 11.70 sec\n",
      "Epoch 2, Training Loss: 0.183395665759764\n",
      "Epoch 2, Validation Accuracy: 95.38%,          Time: 19.37 sec\n",
      "Epoch 3, Training Loss: 0.14475809848809926\n",
      "Epoch 3, Validation Accuracy: 95.44%,          Time: 27.43 sec\n"
     ]
    }
   ],
   "source": [
    "import torch\n",
    "import torch.nn as nn\n",
    "import torch.optim as optim\n",
    "from torch.utils.data import TensorDataset, DataLoader\n",
    "import time\n",
    "\n",
    "# 3. Convert data to PyTorch tensors using torch.from_numpy()\n",
    "x_train_torch = torch.from_numpy(x_train).float()\n",
    "x_test_torch = torch.from_numpy(x_test).float()\n",
    "y_train_torch = torch.from_numpy(y_train).long()\n",
    "y_test_torch = torch.from_numpy(y_test).long()\n",
    "\n",
    "class PyTorchModel_1(nn.Module):\n",
    "    def __init__(self):\n",
    "        super().__init__()\n",
    "        self.layer1 = nn.Linear(INPUT_SIZE, 128)\n",
    "        self.layer2 = nn.Linear(128, 64)\n",
    "        self.layer3 = nn.Linear(64, 32)\n",
    "        self.layer4 = nn.Linear(32, NUM_CLASSES)\n",
    "    \n",
    "    def forward(self, x):\n",
    "        x = torch.relu(self.layer1(x))\n",
    "        x = torch.relu(self.layer2(x))\n",
    "        x = torch.relu(self.layer3(x))\n",
    "        x = self.layer4(x)  # No activation, CrossEntropyLoss will take care of it\n",
    "        return x\n",
    "\n",
    "def init_weights(m):\n",
    "    if type(m) == nn.Linear:\n",
    "        nn.init.kaiming_normal_(m.weight, mode='fan_in', nonlinearity='relu')\n",
    "        m.bias.data.fill_(0)\n",
    "\n",
    "model_torch_1 = PyTorchModel_1()\n",
    "model_torch_1.apply(init_weights)\n",
    "loss_func = nn.CrossEntropyLoss()\n",
    "optimizer = optim.Adam(model_torch_1.parameters(), lr=0.001)\n",
    "\n",
    "\n",
    "train_dataset = TensorDataset(x_train_torch, y_train_torch)\n",
    "train_loader = DataLoader(dataset=train_dataset, batch_size=16, shuffle=True)\n",
    "\n",
    "time_point = time.time()\n",
    "\n",
    "for epoch in range(3):  # Number of epochs\n",
    "    model_torch_1.train()  # Set the model to training mode\n",
    "    running_loss = 0.0\n",
    "    for i, data in enumerate(train_loader, 0):\n",
    "        inputs, labels = data\n",
    "        optimizer.zero_grad()\n",
    "        outputs = model_torch_1(inputs)\n",
    "        loss = loss_func(outputs, labels)\n",
    "        loss.backward()\n",
    "        optimizer.step()\n",
    "        running_loss += loss.item()\n",
    "\n",
    "    print(f'Epoch {epoch + 1}, Training Loss: {running_loss / len(train_loader)}')\n",
    "\n",
    "    # Validation phase\n",
    "    model_torch_1.eval()  # Set the model to evaluation mode\n",
    "    total = 0\n",
    "    correct = 0\n",
    "\n",
    "    with torch.no_grad():  # Inference without gradient calculationS\n",
    "        total += y_test_torch.size(0)\n",
    "        outputs = model_torch_1(x_test_torch)\n",
    "        \n",
    "        _, predicted = torch.max(outputs, 1)\n",
    "        correct = (predicted == y_test_torch).sum().item()\n",
    "\n",
    "    print(f'Epoch {epoch + 1}, Validation Accuracy: {100 * correct / total}%,\\\n",
    "          Time: {time.time() - time_point:.2f} sec')\n",
    "\n"
   ]
  }
 ],
 "metadata": {
  "kernelspec": {
   "display_name": "Python 3 (ipykernel)",
   "language": "python",
   "name": "python3"
  },
  "language_info": {
   "codemirror_mode": {
    "name": "ipython",
    "version": 3
   },
   "file_extension": ".py",
   "mimetype": "text/x-python",
   "name": "python",
   "nbconvert_exporter": "python",
   "pygments_lexer": "ipython3",
   "version": "3.11.6"
  }
 },
 "nbformat": 4,
 "nbformat_minor": 4
}
