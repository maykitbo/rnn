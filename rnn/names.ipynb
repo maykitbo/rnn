{
 "cells": [
  {
   "cell_type": "code",
   "execution_count": 1,
   "metadata": {},
   "outputs": [],
   "source": [
    "import warnings\n",
    "warnings.filterwarnings(\"ignore\", category=UserWarning, module=\"tensorflow\")\n",
    "warnings.filterwarnings(\"ignore\", category=UserWarning, module=\"keras\")"
   ]
  },
  {
   "cell_type": "markdown",
   "metadata": {},
   "source": [
    "## seq2seq\n",
    "### Генерация имён"
   ]
  },
  {
   "cell_type": "code",
   "execution_count": 26,
   "id": "44aefe8c-0cda-47bf-91c7-93c5f661ce03",
   "metadata": {},
   "outputs": [],
   "source": [
    "import numpy as np\n",
    "import matplotlib.pyplot as plt\n",
    "import random\n",
    "%matplotlib inline"
   ]
  },
  {
   "cell_type": "code",
   "execution_count": 27,
   "id": "6cbba2c0-075e-4ad0-87ae-d7a04d66b88b",
   "metadata": {},
   "outputs": [
    {
     "name": "stdout",
     "output_type": "stream",
     "text": [
      "n samples =  7944\n",
      "5 examples:  ['charil', 'siffre', 'jeannine', 'ranique', 'curt']\n",
      "max length = 16\n"
     ]
    },
    {
     "data": {
      "image/png": "[encoded data removed]",
      "text/plain": [
       "<Figure size 640x480 with 1 Axes>"
      ]
     },
     "metadata": {},
     "output_type": "display_data"
    }
   ],
   "source": [
    "with open(\"names\") as f:\n",
    "    names = f.read()[:-1].split('\\n')\n",
    "    names = [line for line in names]\n",
    "\n",
    "for i in range(len(names)):\n",
    "    names[i] = names[i].lower()\n",
    "\n",
    "print('n samples = ',len(names))\n",
    "print(\"5 examples: \", random.sample(names, 5))\n",
    "\n",
    "MAX_LENGTH = max(map(len, names)) + 1\n",
    "print(\"max length =\", MAX_LENGTH)\n",
    "\n",
    "plt.title('Sequence length distribution')\n",
    "plt.hist(list(map(len, names)),bins=25)\n",
    "plt.show()"
   ]
  },
  {
   "cell_type": "code",
   "execution_count": 4,
   "id": "f82651a5-4f9e-41dc-9a86-2279b8469c69",
   "metadata": {},
   "outputs": [
    {
     "name": "stdout",
     "output_type": "stream",
     "text": [
      "29 \n",
      " [' ', \"'\", '-', 'a', 'b', 'c', 'd', 'e', 'f', 'g', 'h', 'i', 'j', 'k', 'l', 'm', 'n', 'o', 'p', 'q', 'r', 's', 't', 'u', 'v', 'w', 'x', 'y', 'z']\n",
      "{' ': 0, \"'\": 1, '-': 2, 'a': 3, 'b': 4, 'c': 5, 'd': 6, 'e': 7, 'f': 8, 'g': 9, 'h': 10, 'i': 11, 'j': 12, 'k': 13, 'l': 14, 'm': 15, 'n': 16, 'o': 17, 'p': 18, 'q': 19, 'r': 20, 's': 21, 't': 22, 'u': 23, 'v': 24, 'w': 25, 'x': 26, 'y': 27, 'z': 28, '<': 29, '>': 30, '_': 31}\n"
     ]
    }
   ],
   "source": [
    "tokens = set()\n",
    "for name in names:\n",
    "    tokens.update(set(name))\n",
    "\n",
    "tokens = sorted(list(tokens))\n",
    "# tokens = list(tokens)\n",
    "\n",
    "NUM_TOKENS = len(tokens)\n",
    "print(NUM_TOKENS, '\\n', tokens)\n",
    "\n",
    "tokens.append('<') # <SOS>\n",
    "tokens.append('>') # <EOS>\n",
    "tokens.append('_') # <PAD>\n",
    "NUM_TOKENS+=3\n",
    "\n",
    "token_to_id = {token: idx for idx, token in enumerate(tokens)}\n",
    "print(token_to_id)"
   ]
  },
  {
   "cell_type": "code",
   "execution_count": 10,
   "metadata": {},
   "outputs": [
    {
     "name": "stdout",
     "output_type": "stream",
     "text": [
      "dolly\n",
      "dody\n",
      "adrianne\n",
      "page\n",
      "kara-lynn\n",
      "[[29 17 14 14 27 30 31 31 31 31 31 31 31 31 31 31]\n",
      " [29 17  6 27 30 31 31 31 31 31 31 31 31 31 31 31]\n",
      " [29  6 20 11  3 16 16  7 30 31 31 31 31 31 31 31]\n",
      " [29  3  9  7 30 31 31 31 31 31 31 31 31 31 31 31]\n",
      " [29  3 20  3  2 14 27 16 16 30 31 31 31 31 31 31]] \n",
      "\n",
      "[[0. 0. 0. 0. 0. 0. 0. 0. 0. 0. 0. 0. 0. 0. 0. 0. 0. 1. 0. 0. 0. 0. 0. 0.\n",
      "  0. 0. 0. 0. 0. 0. 0. 0.]\n",
      " [0. 0. 0. 0. 0. 0. 0. 0. 0. 0. 0. 0. 0. 0. 1. 0. 0. 0. 0. 0. 0. 0. 0. 0.\n",
      "  0. 0. 0. 0. 0. 0. 0. 0.]\n",
      " [0. 0. 0. 0. 0. 0. 0. 0. 0. 0. 0. 0. 0. 0. 1. 0. 0. 0. 0. 0. 0. 0. 0. 0.\n",
      "  0. 0. 0. 0. 0. 0. 0. 0.]]\n"
     ]
    }
   ],
   "source": [
    "from keras.utils import to_categorical\n",
    "\n",
    "def to_matrix(names, max_len=None, dtype='int64', batch_first=True):\n",
    "    \"\"\"Casts a list of names into rnn-digestable matrix\"\"\"\n",
    "\n",
    "    max_len = max_len or (max(map(len, names)) + 1)\n",
    "    names_ix = np.zeros([len(names), max_len], dtype=dtype) + token_to_id['_']\n",
    "    names_ix[:, 0] = token_to_id['<'] # <SOS>\n",
    "\n",
    "    for i in range(len(names)):\n",
    "        line_ix = [token_to_id[c] for c in names[i]]\n",
    "        names_ix[i, 1:len(line_ix)] = line_ix[1:]\n",
    "        names_ix[i, len(line_ix)] = token_to_id['>'] # <EOS>\n",
    "\n",
    "    if not batch_first: # convert [batch, time] into [time, batch]\n",
    "        names_ix = np.transpose(names_ix)\n",
    "\n",
    "    return names_ix\n",
    "\n",
    "def create_target(names, dtype='int64'):\n",
    "    # Shift each element in 'names' one position to the left\n",
    "    target = np.roll(names, shift=-1, axis=1)\n",
    "\n",
    "    # Replace the last element in each row with the token ID for '<EOS>' (End of Sequence)\n",
    "    target[:, -1] = token_to_id['_']  # <EOS> token\n",
    "\n",
    "    # Flatten the 2D 'target' tensor into a 1D array\n",
    "    target_flat = target.flatten()\n",
    "\n",
    "    # Convert the flattened array into a one-hot encoded representation\n",
    "    # The number of classes is specified by 'NUM_TOKENS'\n",
    "    target_categorical = to_categorical(target_flat, num_classes=NUM_TOKENS)\n",
    "\n",
    "    # Reshape the one-hot encoded array back to the original 2D shape with an additional dimension\n",
    "    # The additional dimension corresponds to the one-hot encoding for each token\n",
    "    target_categorical = target_categorical.reshape(target.shape + (NUM_TOKENS,))\n",
    "\n",
    "    # Return the resulting 3D tensor representing the one-hot encoded targets\n",
    "    return target_categorical\n",
    "\n",
    "names_test_set = random.sample(names, 5)\n",
    "print('\\n'.join(names_test_set))\n",
    "data_test_set = to_matrix(names_test_set, max_len=MAX_LENGTH)\n",
    "print(data_test_set, '\\n')\n",
    "print(create_target(data_test_set)[0][0:3])"
   ]
  },
  {
   "cell_type": "code",
   "execution_count": 11,
   "metadata": {},
   "outputs": [
    {
     "name": "stdout",
     "output_type": "stream",
     "text": [
      "(6355, 16) (6355, 16, 32)\n",
      "(1589, 16) (1589, 16, 32)\n"
     ]
    }
   ],
   "source": [
    "# proportion of validation set\n",
    "VAL_SPLIT = 0.2\n",
    "x_data = to_matrix(names, max_len=MAX_LENGTH)\n",
    "y_data = create_target(x_data)\n",
    "\n",
    "# Split the data into training and validation sets\n",
    "split_idx = int(len(x_data) * (1 - VAL_SPLIT))\n",
    "x_train, x_val = x_data[:split_idx], x_data[split_idx:]\n",
    "y_train, y_val = y_data[:split_idx], y_data[split_idx:]\n",
    "\n",
    "print(x_train.shape, y_train.shape)\n",
    "print(x_val.shape, y_val.shape)\n"
   ]
  },
  {
   "cell_type": "code",
   "execution_count": 12,
   "metadata": {},
   "outputs": [],
   "source": [
    "import tensorflow as tf\n",
    "from keras import layers, models\n",
    "from keras.optimizers import Adam\n",
    "from keras.callbacks import LearningRateScheduler"
   ]
  },
  {
   "cell_type": "code",
   "execution_count": 13,
   "metadata": {},
   "outputs": [],
   "source": [
    "def model_1():\n",
    "    optimizer = Adam(learning_rate=0.001)\n",
    "    model = models.Sequential()\n",
    "    model.add(layers.Embedding(\n",
    "                    input_dim=NUM_TOKENS,\n",
    "                    output_dim=32,\n",
    "                    input_length=MAX_LENGTH))\n",
    "    model.add(layers.LSTM(\n",
    "                    units=128,\n",
    "                    return_sequences=True))\n",
    "    model.add(layers.LSTM(\n",
    "                    units=64,\n",
    "                    return_sequences=True))\n",
    "    model.add(layers.Dense(\n",
    "                    units=NUM_TOKENS,\n",
    "                    activation='softmax'))\n",
    "    model.compile(loss='categorical_crossentropy',\n",
    "                optimizer=optimizer,\n",
    "                metrics=['accuracy'])\n",
    "    return model"
   ]
  },
  {
   "cell_type": "code",
   "execution_count": 28,
   "metadata": {},
   "outputs": [
    {
     "name": "stdout",
     "output_type": "stream",
     "text": [
      "Epoch 1/8\n",
      "199/199 [==============================] - 39s 110ms/step - loss: 1.3767 - accuracy: 0.6427 - val_loss: 1.0861 - val_accuracy: 0.7065\n",
      "Epoch 2/8\n",
      "199/199 [==============================] - 19s 98ms/step - loss: 0.9964 - accuracy: 0.7040 - val_loss: 1.0046 - val_accuracy: 0.7085\n",
      "Epoch 3/8\n",
      "199/199 [==============================] - 18s 89ms/step - loss: 0.9204 - accuracy: 0.7220 - val_loss: 0.9493 - val_accuracy: 0.7184\n",
      "Epoch 4/8\n",
      "199/199 [==============================] - 18s 92ms/step - loss: 0.8770 - accuracy: 0.7296 - val_loss: 0.9299 - val_accuracy: 0.7213\n",
      "Epoch 5/8\n",
      "199/199 [==============================] - 17s 84ms/step - loss: 0.8649 - accuracy: 0.7313 - val_loss: 0.9235 - val_accuracy: 0.7232\n",
      "Epoch 6/8\n",
      "199/199 [==============================] - 15s 75ms/step - loss: 0.8545 - accuracy: 0.7334 - val_loss: 0.9234 - val_accuracy: 0.7227\n",
      "Epoch 7/8\n",
      "199/199 [==============================] - 15s 78ms/step - loss: 0.8451 - accuracy: 0.7356 - val_loss: 0.9069 - val_accuracy: 0.7282\n",
      "Epoch 8/8\n",
      "199/199 [==============================] - 16s 79ms/step - loss: 0.8343 - accuracy: 0.7381 - val_loss: 0.9043 - val_accuracy: 0.7234\n",
      "INFO:tensorflow:Assets written to: model.rnn/assets\n"
     ]
    },
    {
     "name": "stderr",
     "output_type": "stream",
     "text": [
      "INFO:tensorflow:Assets written to: model.rnn/assets\n"
     ]
    },
    {
     "name": "stdout",
     "output_type": "stream",
     "text": [
      "50/50 [==============================] - 2s 32ms/step - loss: 0.9043 - accuracy: 0.7234\n",
      "Accuracy: 72.34%\n"
     ]
    },
    {
     "data": {
      "image/png": "[encoded data removed]",
      "text/plain": [
       "<Figure size 640x480 with 1 Axes>"
      ]
     },
     "metadata": {},
     "output_type": "display_data"
    }
   ],
   "source": [
    "model = model_1()\n",
    "\n",
    "history = model.fit(\n",
    "        x_train,\n",
    "        y_train,\n",
    "        epochs=8,\n",
    "        batch_size=32,\n",
    "        validation_split=VAL_SPLIT,\n",
    "        validation_data=(x_val, y_val))\n",
    "\n",
    "model.save(\"model.rnn\")\n",
    "\n",
    "print(\"Accuracy: %.2f%%\" % (model.evaluate(x_val, y_val)[1]*100))\n",
    "\n",
    "plt.plot(history.history['loss'])\n",
    "plt.plot(history.history['val_loss'])\n",
    "plt.legend(['train', 'val'])\n",
    "plt.show()"
   ]
  },
  {
   "cell_type": "code",
   "execution_count": 18,
   "metadata": {},
   "outputs": [
    {
     "name": "stdout",
     "output_type": "stream",
     "text": [
      "Epoch 1/12\n",
      "100/100 [==============================] - 14s 68ms/step - loss: 1.7507 - accuracy: 0.6148 - val_loss: 1.2553 - val_accuracy: 0.6468\n",
      "Epoch 2/12\n",
      "100/100 [==============================] - 6s 64ms/step - loss: 1.1942 - accuracy: 0.6474 - val_loss: 1.1304 - val_accuracy: 0.6957\n",
      "Epoch 3/12\n",
      "100/100 [==============================] - 8s 82ms/step - loss: 1.0236 - accuracy: 0.7051 - val_loss: 1.0106 - val_accuracy: 0.7196\n",
      "Epoch 4/12\n",
      "100/100 [==============================] - 8s 81ms/step - loss: 0.9628 - accuracy: 0.7164 - val_loss: 0.9905 - val_accuracy: 0.7293\n",
      "Epoch 5/12\n",
      "100/100 [==============================] - 8s 82ms/step - loss: 0.9177 - accuracy: 0.7273 - val_loss: 0.9668 - val_accuracy: 0.7275\n",
      "Epoch 6/12\n",
      "100/100 [==============================] - 6s 58ms/step - loss: 0.8902 - accuracy: 0.7297 - val_loss: 0.9444 - val_accuracy: 0.7183\n",
      "Epoch 7/12\n",
      "100/100 [==============================] - 8s 77ms/step - loss: 0.8760 - accuracy: 0.7297 - val_loss: 0.9324 - val_accuracy: 0.7223\n",
      "Epoch 8/12\n",
      "100/100 [==============================] - 7s 71ms/step - loss: 0.8693 - accuracy: 0.7297 - val_loss: 0.9351 - val_accuracy: 0.7206\n",
      "Epoch 9/12\n",
      "100/100 [==============================] - 7s 65ms/step - loss: 0.8626 - accuracy: 0.7317 - val_loss: 0.9168 - val_accuracy: 0.7234\n",
      "Epoch 10/12\n",
      "100/100 [==============================] - 7s 70ms/step - loss: 0.8576 - accuracy: 0.7325 - val_loss: 0.9226 - val_accuracy: 0.7254\n",
      "Epoch 11/12\n",
      "100/100 [==============================] - 7s 66ms/step - loss: 0.8523 - accuracy: 0.7339 - val_loss: 0.9317 - val_accuracy: 0.7188\n",
      "Epoch 12/12\n",
      "100/100 [==============================] - 7s 65ms/step - loss: 0.8468 - accuracy: 0.7351 - val_loss: 0.9096 - val_accuracy: 0.7304\n",
      "50/50 [==============================] - 1s 18ms/step - loss: 0.9096 - accuracy: 0.7304\n",
      "Accuracy: 73.04%\n"
     ]
    },
    {
     "data": {
      "image/png": "[encoded data removed]",
      "text/plain": [
       "<Figure size 640x480 with 1 Axes>"
      ]
     },
     "metadata": {},
     "output_type": "display_data"
    }
   ],
   "source": [
    "def model_2():\n",
    "    optimizer = Adam(learning_rate=0.00075)\n",
    "    model = models.Sequential()\n",
    "    model.add(layers.Embedding(\n",
    "                    input_dim=NUM_TOKENS,\n",
    "                    output_dim=32,\n",
    "                    input_length=MAX_LENGTH))\n",
    "    model.add(layers.LSTM(\n",
    "                    units=128,\n",
    "                    return_sequences=True))\n",
    "    model.add(layers.LSTM(\n",
    "                    units=64,\n",
    "                    return_sequences=True))\n",
    "    model.add(layers.Dense(\n",
    "                    units=64,\n",
    "                    activation='relu'))\n",
    "    model.add(layers.Dense(\n",
    "                    units=NUM_TOKENS,\n",
    "                    activation='softmax'))\n",
    "    model.compile(loss='categorical_crossentropy',\n",
    "                optimizer=optimizer,\n",
    "                metrics=['accuracy'])\n",
    "    return model\n",
    "\n",
    "model2 = model_2()\n",
    "\n",
    "history = model2.fit(\n",
    "        x_train,\n",
    "        y_train,\n",
    "        epochs=12,\n",
    "        batch_size=64,\n",
    "        validation_split=VAL_SPLIT,\n",
    "        validation_data=(x_val, y_val))\n",
    "\n",
    "print(\"Accuracy: %.2f%%\" % (model2.evaluate(x_val, y_val)[1]*100))\n",
    "\n",
    "plt.plot(history.history['loss'])\n",
    "plt.plot(history.history['val_loss'])\n",
    "plt.legend(['train', 'val'])\n",
    "plt.show()"
   ]
  },
  {
   "cell_type": "code",
   "execution_count": 29,
   "metadata": {},
   "outputs": [
    {
     "name": "stdout",
     "output_type": "stream",
     "text": [
      "temperature =  0.2\n",
      "\t <Arelie>\n",
      "\t <Arin>\n",
      "\t <Arin>\n",
      "\t <Redie>\n",
      "\t <Redia>\n",
      "\t <Redie>\n",
      "temperature =  0.5\n",
      "\t <Arel>\n",
      "\t <Arelin>\n",
      "\t <Aree>\n",
      "\t <Redine>\n",
      "\t <Red>\n",
      "\t <Redin>\n",
      "temperature =  1.2\n",
      "\t <Hgina>\n",
      "\t <Il>\n",
      "\t <Sry>\n",
      "\t <Redbamik>\n",
      "\t <Redei>\n",
      "\t <Redie>\n",
      "temperature =  2.0\n",
      "\t <Mn>\n",
      "\t <Arla_>\n",
      "\t <Xuplet>\n",
      "\t <Redanl>\n",
      "\t <Redilin-ry>\n",
      "\t <Redrbino>\n"
     ]
    }
   ],
   "source": [
    "# model = models.load_model(\"model.rnn\")\n",
    "\n",
    "def generate_sample(model, seed_phrase='<', max_length=MAX_LENGTH, temperature=1.0):\n",
    "    generated_sequence = seed_phrase.lower()\n",
    "\n",
    "    while len(generated_sequence) < max_length:\n",
    "        seed_matrix = to_matrix([generated_sequence], max_len=max_length)\n",
    "\n",
    "        probabilities = model.predict(seed_matrix, verbose=0)[0][len(generated_sequence) - 1]\n",
    "        \n",
    "        probabilities = np.log(probabilities) / temperature\n",
    "        exp_probabilities = np.exp(probabilities)\n",
    "        probabilities = exp_probabilities / np.sum(exp_probabilities)\n",
    "        next_token_index = np.random.choice(len(probabilities), p=probabilities)\n",
    "        next_token = tokens[next_token_index]\n",
    "\n",
    "        generated_sequence += next_token\n",
    "\n",
    "        if next_token == '>':\n",
    "            break\n",
    "\n",
    "    generated_sequence = generated_sequence[0] + generated_sequence[1].upper() + generated_sequence[2:]\n",
    "    return generated_sequence\n",
    "\n",
    "for t in [0.2, 0.5, 1.2, 2.0]:\n",
    "    print('temperature = ', t)\n",
    "    for i in range(3):\n",
    "        print('\\t', generate_sample(model, temperature=t))\n",
    "    for i in range(3):\n",
    "        print('\\t', generate_sample(model, seed_phrase='<Red', temperature=t))\n",
    "    "
   ]
  },
  {
   "cell_type": "code",
   "execution_count": 30,
   "metadata": {},
   "outputs": [
    {
     "name": "stdout",
     "output_type": "stream",
     "text": [
      "temperature =  0.2\n",
      "\t <Ara>\n",
      "\t <Arie>\n",
      "\t <Arin>\n",
      "\t <Yren>\n",
      "\t <Ynn>\n",
      "\t <Yne>\n",
      "temperature =  0.5\n",
      "\t <Vene>\n",
      "\t <Ole>\n",
      "\t <Erat>\n",
      "\t <Yla>\n",
      "\t <Ylle>\n",
      "\t <Yle>\n",
      "temperature =  1.2\n",
      "\t <Aricela>\n",
      "\t <Ansdomlo>\n",
      "\t <Ambyrte>\n",
      "\t <Ypanerdyr>\n",
      "\t <Ynd>\n",
      "\t <Ylna>\n",
      "temperature =  2.0\n",
      "\t <Zcjenlmana>\n",
      "\t <Lrarlkdj>\n",
      "\t <Lmeelci>\n",
      "\t <Yrle-akdsatygeu\n",
      "\t <Ybegr>\n",
      "\t <Ynaste>\n"
     ]
    }
   ],
   "source": [
    "for t in [0.2, 0.5, 1.2, 2.0]:\n",
    "    print('temperature = ', t)\n",
    "    for i in range(3):\n",
    "        print('\\t', generate_sample(model2, temperature=t))\n",
    "    for i in range(3):\n",
    "        print('\\t', generate_sample(model2, seed_phrase='<Y', temperature=t))"
   ]
  }
 ],
 "metadata": {
  "kernelspec": {
   "display_name": "Python 3 (ipykernel)",
   "language": "python",
   "name": "python3"
  },
  "language_info": {
   "codemirror_mode": {
    "name": "ipython",
    "version": 3
   },
   "file_extension": ".py",
   "mimetype": "text/x-python",
   "name": "python",
   "nbconvert_exporter": "python",
   "pygments_lexer": "ipython3",
   "version": "3.10.12"
  }
 },
 "nbformat": 4,
 "nbformat_minor": 5
}
