{
 "cells": [
  {
   "cell_type": "code",
   "execution_count": 1,
   "metadata": {},
   "outputs": [],
   "source": [
    "import warnings\n",
    "warnings.filterwarnings(\"ignore\", category=UserWarning, module=\"tensorflow\")\n",
    "warnings.filterwarnings(\"ignore\", category=UserWarning, module=\"keras\")"
   ]
  },
  {
   "cell_type": "markdown",
   "metadata": {},
   "source": [
    "## Binary Classification\n",
    "### Movie review\n",
    "determine positive or negative review"
   ]
  },
  {
   "cell_type": "code",
   "execution_count": null,
   "metadata": {},
   "outputs": [],
   "source": [
    "import numpy as np\n",
    "import matplotlib.pyplot as plt\n",
    "import random\n",
    "%matplotlib inline\n",
    "\n",
    "from keras.datasets import imdb\n",
    "from keras.preprocessing import sequence"
   ]
  },
  {
   "cell_type": "markdown",
   "metadata": {},
   "source": [
    "Скачиваем данные, проверяем и подготавливаем их."
   ]
  },
  {
   "cell_type": "code",
   "execution_count": null,
   "metadata": {},
   "outputs": [],
   "source": [
    "word_index = imdb.get_word_index()\n",
    "\n",
    "MAX_FEATURES = len(word_index)\n",
    "\n",
    "(x_train, y_train), (x_test, y_test) = imdb.load_data(num_words=MAX_FEATURES)\n",
    "\n",
    "# Reverse the word index to get words from indices\n",
    "reverse_word_index = dict([(value, key) for (key, value) in word_index.items()])\n",
    "\n",
    "# Decode the reviews\n",
    "def decode_review(sequence):\n",
    "    return ' '.join([reverse_word_index.get(i - 3, '?') for i in sequence])\n",
    "\n",
    "# Print some reviews to the terminal\n",
    "num_reviews_to_print = 1\n",
    "for i in range(num_reviews_to_print):\n",
    "    review_index = np.random.randint(0, len(x_train))\n",
    "    print(f\"Review {i + 1}:\\n\")\n",
    "    print(decode_review(x_train[review_index]))\n",
    "    print(\"\\nSentiment (0: Negative, 1: Positive):\", y_train[review_index])\n",
    "    print(len(x_train[review_index]), \"words\")\n",
    "    print(\"\\n\" + \"=\" * 50 + \"\\n\")\n",
    "\n",
    "MAX_LEN = 100\n",
    "\n",
    "plt.title('Sequence length distribution')\n",
    "plt.hist(list(map(len, x_train)),bins=64)\n",
    "plt.show()\n",
    "\n",
    "x_train = sequence.pad_sequences(x_train, maxlen=MAX_LEN)\n",
    "x_test = sequence.pad_sequences(x_test, maxlen=MAX_LEN)\n",
    "\n",
    "positive_reviews = sum(y_train)\n",
    "negative_reviews = len(y_train) - positive_reviews\n",
    "print(\"Number of positive reviews:\", positive_reviews)\n",
    "print(\"Number of negative reviews:\", negative_reviews)"
   ]
  },
  {
   "cell_type": "code",
   "execution_count": null,
   "metadata": {},
   "outputs": [],
   "source": [
    "from callbacks import PlotLossCallback\n",
    "\n",
    "from keras.callbacks import LearningRateScheduler\n",
    "import tensorflow as tf\n",
    "from keras import layers, models"
   ]
  },
  {
   "cell_type": "markdown",
   "metadata": {},
   "source": [
    "Определим функцию для обучения модели"
   ]
  },
  {
   "cell_type": "code",
   "execution_count": null,
   "metadata": {},
   "outputs": [],
   "source": [
    "def train(model: models.Sequential, epochs=5, batch_size=32, verbose=1, lr=0.001, lr_schedule=1.0, val_split=0.15):\n",
    "    def lr_func(epoch):\n",
    "        return 0.001 * (lr_schedule ** epoch)\n",
    "\n",
    "    history = model.fit(\n",
    "        x=x_train, y=y_train,\n",
    "        epochs=epochs,\n",
    "        batch_size=batch_size,\n",
    "        verbose=verbose,\n",
    "        callbacks=[PlotLossCallback(batch_size / (len(x_train) * (1 - val_split))),\n",
    "                  LearningRateScheduler(lr_func)],\n",
    "        validation_split=val_split,\n",
    "        validation_data=(x_test, y_test))\n",
    "    \n",
    "    _, test_acc = model.evaluate(x_test, y_test)\n",
    "    print(f'Test accuracy: {test_acc}')\n",
    "\n",
    "    return history"
   ]
  },
  {
   "cell_type": "markdown",
   "metadata": {},
   "source": [
    "Первая модель"
   ]
  },
  {
   "cell_type": "code",
   "execution_count": null,
   "metadata": {},
   "outputs": [],
   "source": [
    "from keras.layers import Embedding, Dense, LSTM\n",
    "from keras.optimizers import Adam"
   ]
  },
  {
   "cell_type": "code",
   "execution_count": null,
   "metadata": {},
   "outputs": [],
   "source": [
    "learning_rate = 0.001\n",
    "def CreateModelType_1():\n",
    "    optimizer = Adam(learning_rate=learning_rate)\n",
    "    model = models.Sequential()\n",
    "    model.add(layers.Embedding(MAX_FEATURES, 32))\n",
    "    model.add(layers.LSTM(32))\n",
    "    model.add(layers.Dense(1, activation='sigmoid'))\n",
    "    model.compile(optimizer=optimizer,\n",
    "                loss='binary_crossentropy',\n",
    "                metrics=['accuracy'])\n",
    "    return model\n",
    "    \n",
    "train(CreateModelType_1(), epochs=3, batch_size=128, verbose=1, lr=learning_rate, lr_schedule=1.0)\n",
    "\n"
   ]
  }
 ],
 "metadata": {
  "kernelspec": {
   "display_name": "Python 3",
   "language": "python",
   "name": "python3"
  },
  "language_info": {
   "codemirror_mode": {
    "name": "ipython",
    "version": 3
   },
   "file_extension": ".py",
   "mimetype": "text/x-python",
   "name": "python",
   "nbconvert_exporter": "python",
   "pygments_lexer": "ipython3",
   "version": "3.10.12"
  }
 },
 "nbformat": 4,
 "nbformat_minor": 2
}
