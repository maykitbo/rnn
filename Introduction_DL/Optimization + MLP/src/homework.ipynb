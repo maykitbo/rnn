{
 "cells": [
  {
   "cell_type": "markdown",
   "metadata": {},
   "source": [
    "## Homework\n",
    "\n",
    "Add missing parts of code"
   ]
  },
  {
   "cell_type": "code",
   "execution_count": null,
   "metadata": {},
   "outputs": [],
   "source": [
    "from keras.datasets import mnist\n",
    "import numpy as np\n",
    "\n",
    "(x_train, y_train), (x_test, y_test) = mnist.load_data()\n",
    "\n",
    "NUM_CLASSES =  ### YOUR CODE HERE\n",
    "INPUT_SIZE =  ### YOUR CODE HERE\n",
    "\n",
    "# normalization\n",
    "x_train = x_train /  ### YOUR CODE HERE\n",
    "x_test = x_test /  ### YOUR CODE HERE\n",
    "\n",
    "\n",
    "x_train = x_train.reshape(x_train.shape[0], INPUT_SIZE)\n",
    "x_test = x_test.reshape(x_test.shape[0], INPUT_SIZE)"
   ]
  },
  {
   "cell_type": "markdown",
   "metadata": {},
   "source": [
    "## PyTorch Model"
   ]
  },
  {
   "cell_type": "code",
   "execution_count": null,
   "metadata": {},
   "outputs": [],
   "source": [
    "import torch\n",
    "import torch.nn as nn\n",
    "import torch.optim as optim\n",
    "from torch.utils.data import TensorDataset, DataLoader\n",
    "import time\n",
    "\n",
    "# 3. Convert data to PyTorch tensors using torch.from_numpy()\n",
    "x_train_torch = torch.from_numpy(x_train).float()\n",
    "x_test_torch = torch.from_numpy(x_test).float()\n",
    "y_train_torch = torch.from_numpy(y_train).long()\n",
    "y_test_torch = torch.from_numpy(y_test).long()\n",
    "\n",
    "class PyTorchModel_1(nn.Module):\n",
    "    def __init__(self):\n",
    "        super().__init__()\n",
    "        self.layer1 = nn.Linear(INPUT_SIZE, 128)\n",
    "        self.layer2 = nn.Linear(128, 64)\n",
    "        self.layer3 = nn.Linear(64, 32)\n",
    "        self.layer4 = nn.Linear(32, NUM_CLASSES)\n",
    "    \n",
    "    def forward(self, x):\n",
    "        x = torch.relu(self.layer1(x))\n",
    "        x = torch.relu(self.layer2(x))\n",
    "        x = torch.relu(self.layer3(x))\n",
    "        x = self.layer4(x)  # No activation, CrossEntropyLoss will take care of it\n",
    "        return x\n",
    "\n",
    "def init_weights(m):\n",
    "    if type(m) == nn.Linear:\n",
    "        nn.init.kaiming_normal_(m.weight, mode='fan_in', nonlinearity='relu')\n",
    "        m.bias.data.fill_(0)\n",
    "\n",
    "model_torch_1 = PyTorchModel_1()\n",
    "model_torch_1.apply(init_weights)\n",
    "\n",
    "loss_func =  ### YOUR CODE HERE\n",
    "optimizer =  ### YOUR CODE HERE\n",
    "\n",
    "train_dataset = TensorDataset(x_train_torch, y_train_torch)\n",
    "train_loader = DataLoader(dataset=train_dataset, batch_size=16, shuffle=True)\n",
    "\n",
    "for epoch in range(3):  # Number of epochs\n",
    "    model_torch_1.train()  # Set the model to training mode\n",
    "    running_loss = 0.0\n",
    "    for i, data in enumerate(train_loader, 0):\n",
    "        inputs, labels = data\n",
    "\n",
    "        ### YOUR CODE HERE\n",
    "\n",
    "        outputs = model_torch_1(inputs)\n",
    "        loss = loss_func(outputs, labels)\n",
    "\n",
    "        ### YOUR CODE HERE\n",
    "\n",
    "        running_loss += loss.item()\n",
    "\n",
    "    print(f'Epoch {epoch + 1}, Training Loss: {running_loss / len(train_loader)}')\n",
    "\n",
    "    # Validation phase\n",
    "    model_torch_1.eval()  # Set the model to evaluation mode\n",
    "    total = 0\n",
    "    correct = 0\n",
    "\n",
    "    with torch.no_grad():  # Inference without gradient calculationS\n",
    "        total += y_test_torch.size(0)\n",
    "        outputs = model_torch_1(x_test_torch)\n",
    "        \n",
    "    ### YOUR CODE HERE\n",
    "        # Calculate accuracy and print it\n"
   ]
  }
 ],
 "metadata": {
  "kernelspec": {
   "display_name": "Python 3",
   "language": "python",
   "name": "python3"
  },
  "language_info": {
   "codemirror_mode": {
    "name": "ipython",
    "version": 3
   },
   "file_extension": ".py",
   "mimetype": "text/x-python",
   "name": "python",
   "nbconvert_exporter": "python",
   "pygments_lexer": "ipython3",
   "version": "3.11.6"
  }
 },
 "nbformat": 4,
 "nbformat_minor": 2
}
